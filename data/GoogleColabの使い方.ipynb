{
  "nbformat": 4,
  "nbformat_minor": 0,
  "metadata": {
    "colab": {
      "provenance": [],
      "collapsed_sections": [
        "rXKyB4WX6TMo",
        "FYompWKaZFvL",
        "ALpz2K-GYwzo"
      ],
      "toc_visible": true,
      "include_colab_link": true
    },
    "kernelspec": {
      "name": "python3",
      "display_name": "Python 3"
    },
    "language_info": {
      "name": "python"
    }
  },
  "cells": [
    {
      "cell_type": "markdown",
      "metadata": {
        "id": "view-in-github",
        "colab_type": "text"
      },
      "source": [
        "<a href=\"https://colab.research.google.com/github/yajima-yasutoshi/shunan-u/blob/main/data/GoogleColab%E3%81%AE%E4%BD%BF%E3%81%84%E6%96%B9.ipynb\" target=\"_parent\"><img src=\"https://colab.research.google.com/assets/colab-badge.svg\" alt=\"Open In Colab\"/></a>"
      ]
    },
    {
      "cell_type": "markdown",
      "source": [
        "# データマイニング第2回（20241008）"
      ],
      "metadata": {
        "id": "IjD4xP03KHYS"
      }
    },
    {
      "cell_type": "markdown",
      "source": [
        "本日の講義の資料以下のサイトに保存されている。\n",
        "https://github.com/yajima-yasutoshi/DataMining2024/tree/main/20241008\n",
        "\n"
      ],
      "metadata": {
        "id": "zW6aOCWL7IKT"
      }
    },
    {
      "cell_type": "markdown",
      "source": [
        "# Google Colab の始め方"
      ],
      "metadata": {
        "id": "Fu_M_pfFObLc"
      }
    },
    {
      "cell_type": "markdown",
      "source": [
        "## Google Colaboratory とは何か\n",
        "\n",
        "* ブラウザ（Chrome）を使い、Pythonプログラムの開発と実行ができる環境\n",
        "* Googleアカウント（Gmail）が必要\n",
        "\n",
        "### 主な特徴\n",
        "\n",
        "* AIを実行する環境が既に用意されている（CPUだけでなくGPUも利用できる）\n",
        "  * CPU （Central Processing Unit、中央処理装置）: コンピュータでのあらゆる処理を行う装置（部品）、数個から数十のコアから構成、高速な処理\n",
        "  * GPU （Graphics Processing Unit、画像処理装置）:計算処理に特化した装置、多数のコアから構成され、並列に処理が可能\n",
        "\n",
        "* 無料で使える。（複雑なAIを構築するためには有料プランが必要となる場合もある。）\n",
        "* プログラムを**Colabノーブック**に作成し、対話的にPythonが利用\n",
        "* Pythonプログラムや実行結果の共有が簡単\n",
        "* 報告資料などの作成も Colabノートブックで行える\n"
      ],
      "metadata": {
        "id": "fAkTsnPBY0QP"
      }
    },
    {
      "cell_type": "markdown",
      "source": [
        "## 準備\n",
        "1. Chrome ブラウザを開き、Googleアカウントでログインした状態にする\n",
        "\n",
        "1. 「Googleドライブ」にアクセス\n",
        " - https://drive.google.com/ にアクセスする\n",
        " - マイドライブに中に「Colab Notebooks」が作られていることを確認\n",
        "\n",
        "1. Google Drive をブラウザにブックマークしておくと便利"
      ],
      "metadata": {
        "id": "YuredqkxcbR_"
      }
    },
    {
      "cell_type": "markdown",
      "source": [
        "# Colabノートブック利用の流れ\n",
        "1. Google Drive で、新規 → その他 → Google Colaboratoryを選択することで、新規のノートブックが作成される。\n",
        "2. **コードセル**には、Pythonのプログラムを入力し実行が可能\n",
        "2. **テキストセル**には、説明文などの文章を書き込むことが可能\n",
        "2. 必要に応じてノートブック名を変更（拡張子は.ipynb となる）\n",
        "2. ファイル → 保存でファイルが保存される"
      ],
      "metadata": {
        "id": "2d8iS8DrNFSE"
      }
    },
    {
      "cell_type": "markdown",
      "source": [
        "# Google Colab の主な機能"
      ],
      "metadata": {
        "id": "D43sL4ZWOikf"
      }
    },
    {
      "cell_type": "markdown",
      "source": [
        "##セル\n",
        "Colab Notebook には2種類のセルがある。\n",
        "* セルの追加には、**＋コード**、**＋テキスト** のボタンを使う\n",
        "* テキストセルはダブルクリックで再編集が可能。別のセルをクリックすると編集が終了する。\n",
        "* **↑** **↓**で、セルの上下移動が可能\n",
        "* **ゴミ箱マーク** で削除\n",
        "* 歯車のマークで細かな設定が可能"
      ],
      "metadata": {
        "id": "JP46pGB6XZLZ"
      }
    },
    {
      "cell_type": "markdown",
      "source": [
        "### コードセル\n",
        "Pythonコードを入力するためのセル  \n",
        "\n",
        "shiftを押しながら enter キーを押す、あるいは、\n",
        "セルの左のボタン（三角のマークがある）をクリックすると、セルに書かれたコードが実行される\n",
        "\n",
        "\n",
        "> セルの中に行番号を表示させることができる。\n",
        "> ツール → 設定 → エディター → 行番号にチェックを入れる\n",
        "\n"
      ],
      "metadata": {
        "id": "i6fj-rNiQL--"
      }
    },
    {
      "cell_type": "code",
      "source": [
        "a = 1\n",
        "b = 5\n",
        "print(a + b)"
      ],
      "metadata": {
        "id": "r5yO1JnqPUjT"
      },
      "execution_count": null,
      "outputs": []
    },
    {
      "cell_type": "markdown",
      "source": [
        "### テキストセル\n",
        "文章や数式などが入力でき、プログラムの説明などを記入するセル。\n",
        "記入には**マークダウン形式**が用いられる。"
      ],
      "metadata": {
        "id": "VDBjAWTJPlOq"
      }
    },
    {
      "cell_type": "markdown",
      "source": [
        "- 箇条書き１\n",
        "- 箇条書き２\n",
        "- 箇条書き３\n",
        "\n",
        "### 見出し\n",
        "## 見出し\n",
        "# 見出し\n",
        "\n",
        "#### スペース2個で改行の例\n",
        "\n",
        "これでは\n",
        "改行されません。\n",
        "\n",
        "これで改行  \n",
        "されます。\n",
        "\n",
        "*Italic* 斜体や\n",
        "\n",
        "**太字** 太字\n",
        "\n"
      ],
      "metadata": {
        "id": "7RU1rNhuUXd2"
      }
    },
    {
      "cell_type": "markdown",
      "source": [
        "### 数式の入力\n",
        "数式の入力は LaTeX形式を使います。\n",
        "$$ y = a x^2 + b$$\n",
        "$$ y = \\frac{1}{x} $$"
      ],
      "metadata": {
        "id": "4hZRtSHLU6VX"
      }
    },
    {
      "cell_type": "markdown",
      "source": [
        "### 表を書く\n",
        "\n",
        "商品 | 金額\n",
        "-- | --\n",
        "りんご | 300\n",
        "みかん | 100\n",
        "ブドウ | 1,000"
      ],
      "metadata": {
        "id": "2EZJtICuIczB"
      }
    },
    {
      "cell_type": "markdown",
      "source": [
        "---\n",
        "---\n",
        "\n",
        "# Python の使い方\n"
      ],
      "metadata": {
        "id": "xR8kT6AEahqy"
      }
    },
    {
      "cell_type": "markdown",
      "source": [
        "## コードセルへの入力\n",
        "1. 「＋コード」をクリックし、何も入力されていないコードセルを作成（追加）し、そこに Python のコード書く\n",
        "\n",
        "2. コードを実行は、shiftを押しながら enter キーを押す、あるいは、\n",
        "セルの左のボタン（三角のマークがある）をクリックする。\n",
        "\n",
        "##コードの変更\n",
        "コードセルをクリックすることで、Pythonプログラムの変更ができる。"
      ],
      "metadata": {
        "id": "lXO96RYu4M9u"
      }
    },
    {
      "cell_type": "markdown",
      "source": [
        "## 変数\n",
        "\n",
        "変数名に使用できる文字は、アルファベット、数字、アンダースコアのみである。\n",
        "また、変数名は数字から始めることはできない。\n"
      ],
      "metadata": {
        "id": "xfcRxbAbtddy"
      }
    },
    {
      "cell_type": "code",
      "source": [
        "#変数への代入と演算\n",
        "a = 3\n",
        "b = 5\n",
        "c = a + b * 7"
      ],
      "metadata": {
        "id": "FZ1uF9sp2d1y"
      },
      "execution_count": null,
      "outputs": []
    },
    {
      "cell_type": "markdown",
      "source": [
        "## 変数の値の確認（画面への出力）\n",
        "\n",
        "変数に格納されている内容を確認するためには、\n",
        "以下のように変数をコードセルに入力して実行する。\n",
        "\n",
        "あるいは、print関数を用いてもよい。"
      ],
      "metadata": {
        "id": "yMYgLd5yRnEF"
      }
    },
    {
      "cell_type": "code",
      "source": [
        "c"
      ],
      "metadata": {
        "id": "Kns2ZDXxPBX4"
      },
      "execution_count": null,
      "outputs": []
    },
    {
      "cell_type": "code",
      "source": [
        "print(c)"
      ],
      "metadata": {
        "id": "DATn4nPCRjZR"
      },
      "execution_count": null,
      "outputs": []
    },
    {
      "cell_type": "markdown",
      "source": [
        "### print関数\n",
        "\n",
        "print 関数の中で文字列を表示するためには、\n",
        "```\n",
        "'計算結果'\n",
        "```\n",
        "のように、\n",
        "シングルクォーテーション\n",
        "あるいは\n",
        "ダブルクォーテーションで囲む必要がある。\n",
        "\n",
        "なお、シングルクォーテーション（shift+7）、\n",
        "ダブルクォーテーション（shift+2）\n",
        "どちらを用いても構わないが、\n",
        "統一して使うことで読みやすいプログラムとなる。"
      ],
      "metadata": {
        "id": "0dNzg0KyxIVg"
      }
    },
    {
      "cell_type": "code",
      "source": [
        "# メッセージを表示する\n",
        "print('計算結果')\n",
        "print('変数 a の値は', a)\n",
        "print('変数 b の値は', b)\n",
        "print('答えは', c, \"です\") # シングルクォーテーションとダブルクォーテーションが混在しているため、間違いではないが推奨できない"
      ],
      "metadata": {
        "id": "ultAuU4KO7Hm"
      },
      "execution_count": null,
      "outputs": []
    },
    {
      "cell_type": "markdown",
      "source": [
        "## キーボードからの入力\n",
        "\n",
        "キーボードから入力することで、変数にセットすることができる。\n"
      ],
      "metadata": {
        "id": "NWt-Z335t47R"
      }
    },
    {
      "cell_type": "code",
      "source": [
        "# キーボードから入力する\n",
        "s = input()\n",
        "s"
      ],
      "metadata": {
        "id": "UDHk9dXeSjM7"
      },
      "execution_count": null,
      "outputs": []
    },
    {
      "cell_type": "markdown",
      "source": [
        "適切なメッセージを出力することも可能である。\n"
      ],
      "metadata": {
        "id": "0GeY_EwvSqHr"
      }
    },
    {
      "cell_type": "code",
      "source": [
        "# キーボードから入力する\n",
        "s = input('整数を入力してください : ')\n",
        "print('入力は', s, 'でした。')"
      ],
      "metadata": {
        "id": "YyMahRSHPe3h"
      },
      "execution_count": null,
      "outputs": []
    },
    {
      "cell_type": "markdown",
      "source": [
        "## if を使った条件分岐"
      ],
      "metadata": {
        "id": "9hEUkRkpueDj"
      }
    },
    {
      "cell_type": "code",
      "source": [
        "#if文の例\n",
        "\n",
        "n = 20\n",
        "# 条件分岐\n",
        "if n > 10:\n",
        "  print(n, 'は 10 より大きいです。') # if が成立する場合のみ実行される"
      ],
      "metadata": {
        "id": "FI3viTx60Adr"
      },
      "execution_count": null,
      "outputs": []
    },
    {
      "cell_type": "code",
      "source": [
        "#and/or 条件の例\n",
        "\n",
        "n = 20\n",
        "# 条件分岐\n",
        "if n > 10 and n < 20:\n",
        "    print(n, 'は 10 より大きく 20より小さいです。')"
      ],
      "metadata": {
        "id": "u4sQTuRw0-q8"
      },
      "execution_count": null,
      "outputs": []
    },
    {
      "cell_type": "code",
      "source": [
        "# キーボードから入力する例\n",
        "\n",
        "s = input('整数を入力してください : ')\n",
        "n = int(s)\n",
        "\n",
        "# 条件分岐\n",
        "if n > 5:\n",
        "    print(n, 'は 5 より大きいです。')\n",
        "else:\n",
        "    print(n, 'は 5 以下です。')"
      ],
      "metadata": {
        "id": "vH0ypt_EPXyh"
      },
      "execution_count": null,
      "outputs": []
    },
    {
      "cell_type": "markdown",
      "source": [
        "## リスト、タプル、辞書\n",
        "\n",
        "リストもタプルのデータを配列として扱うための仕組みである。\n",
        "ただし、タプルは一度定義をすると後から要素の変更や追加ができないが、\n",
        "作成が高速に実行できる。"
      ],
      "metadata": {
        "id": "QXq5Dijj0Eq4"
      }
    },
    {
      "cell_type": "code",
      "source": [
        "#リストの例\n",
        "mylist =  ['東京', '品川', '新横浜', '名古屋', '京都', '新大阪', '新神戸', '岡山', '広島', '小倉', '博多']\n",
        "mylist1 = [5,6,7,8,9,10]\n",
        "\n",
        "#タプルの例\n",
        "mytuple1 = 1, 2, 4, 'abc'\n",
        "mytuple2 = ([1,2], mylist1, 'abc')\n",
        "\n",
        "#辞書\n",
        "mydict1 = {'りんご': 100, 'みかん': 300}\n",
        "mydict2 = {'性別': ['男', '女'], '年齢':[30, 49]}"
      ],
      "metadata": {
        "id": "0uTA-yEA4utv"
      },
      "execution_count": null,
      "outputs": []
    },
    {
      "cell_type": "markdown",
      "source": [
        "## 要素の指定\n",
        "\n",
        "リストやタプルの各要素を指定することができる。\n",
        "\n",
        "要素の最初が0番目と指定することに注意が必要。\n",
        "\n",
        "たとえば、\n",
        "```\n",
        "#  mylist[2]\n",
        "```\n",
        "は、3番目の要素になる。\n"
      ],
      "metadata": {
        "id": "xLt9zF5PTZFl"
      }
    },
    {
      "cell_type": "code",
      "source": [
        "print( mylist[2] )"
      ],
      "metadata": {
        "id": "PI1fQb5CUHWm"
      },
      "execution_count": null,
      "outputs": []
    },
    {
      "cell_type": "markdown",
      "source": [
        "0 は先頭の要素、-1は最後の要素となる。"
      ],
      "metadata": {
        "id": "XBLPBhyio4BP"
      }
    },
    {
      "cell_type": "code",
      "source": [
        "# 先頭の要素へのアクセス\n",
        "print( mylist[0] )\n",
        "\n",
        "# 最後の要素\n",
        "print( mylist[-1] )"
      ],
      "metadata": {
        "id": "NI0Jqz2VW_YI"
      },
      "execution_count": null,
      "outputs": []
    },
    {
      "cell_type": "markdown",
      "source": [
        "## range を使った連続する整数の生成"
      ],
      "metadata": {
        "id": "hPelpUoRVVB5"
      }
    },
    {
      "cell_type": "code",
      "source": [
        "list( range(0,3))"
      ],
      "metadata": {
        "id": "LgDDWQ3yVuKb"
      },
      "execution_count": null,
      "outputs": []
    },
    {
      "cell_type": "markdown",
      "source": [
        "3は含まれないことに注意が必要。また、以下のように最初の0を省略ができる。"
      ],
      "metadata": {
        "id": "zchDJsKiV6M8"
      }
    },
    {
      "cell_type": "code",
      "source": [
        "list( range(3))"
      ],
      "metadata": {
        "id": "wS1HKRTZVAR7"
      },
      "execution_count": null,
      "outputs": []
    },
    {
      "cell_type": "markdown",
      "source": [
        "最初と最後に等しい数値の場合は、空のリストが作られる。"
      ],
      "metadata": {
        "id": "URKFC3_Tpmay"
      }
    },
    {
      "cell_type": "code",
      "source": [
        "list( range(3,3))"
      ],
      "metadata": {
        "id": "PA_uBdj1VlKU"
      },
      "execution_count": null,
      "outputs": []
    },
    {
      "cell_type": "markdown",
      "source": [
        "## for 文を使った繰り返し"
      ],
      "metadata": {
        "id": "Qrjy73M20ir7"
      }
    },
    {
      "cell_type": "code",
      "source": [
        "# 繰り返し\n",
        "for i in range(3):\n",
        "   print('データマイニング')"
      ],
      "metadata": {
        "id": "I-12CDkYrX6u"
      },
      "execution_count": null,
      "outputs": []
    },
    {
      "cell_type": "code",
      "source": [
        "# 繰り返し\n",
        "for i in range(3):\n",
        "   print('データマイニング', end=\" \")"
      ],
      "metadata": {
        "id": "ehQeuIQ_QiQp"
      },
      "execution_count": null,
      "outputs": []
    },
    {
      "cell_type": "code",
      "source": [
        "# 繰り返し\n",
        "for i in range(3):\n",
        "   print(i)\n",
        "\n",
        "   print(i*3)\n",
        "\n",
        "print('終了')"
      ],
      "metadata": {
        "id": "WAmEZ7GiQ1e6"
      },
      "execution_count": null,
      "outputs": []
    },
    {
      "cell_type": "code",
      "source": [
        "# 繰り返し\n",
        "for i in range(3):\n",
        "  print(i)\n",
        "print(i*3)"
      ],
      "metadata": {
        "id": "QQgopY7tQ-RQ"
      },
      "execution_count": null,
      "outputs": []
    },
    {
      "cell_type": "code",
      "source": [
        "# 繰り返し\n",
        "for i in mylist:\n",
        "   print(i)"
      ],
      "metadata": {
        "id": "fF74-tLHRWQB"
      },
      "execution_count": null,
      "outputs": []
    },
    {
      "cell_type": "markdown",
      "source": [
        "## 範囲の指定\n",
        "[開始位置:終了位置（:ステップ）]\n",
        "\n",
        "**重要** リスト内の位置は0から数え始める。\n",
        "また、指定した「終了位置」の一つ手前までの範囲となる。\n",
        "\n",
        "したがって、\n",
        "\n",
        "```\n",
        "mylist1[2:3]\n",
        "```\n",
        "\n",
        "は2番目の要素のみとなる。（最初の要素を0と指定することに注意）"
      ],
      "metadata": {
        "id": "ZykEnYoFs0Aq"
      }
    },
    {
      "cell_type": "code",
      "source": [
        "mylist =  ['東京', '品川', '新横浜', '名古屋', '京都', '新大阪', '新神戸', '岡山', '広島', '小倉', '博多']"
      ],
      "metadata": {
        "id": "zgefK8aQS8Gv"
      },
      "execution_count": null,
      "outputs": []
    },
    {
      "cell_type": "code",
      "source": [
        "mylist[0:5]"
      ],
      "metadata": {
        "id": "uwJPZxx1YTJo"
      },
      "execution_count": null,
      "outputs": []
    },
    {
      "cell_type": "code",
      "source": [
        "mylist[2:3]"
      ],
      "metadata": {
        "id": "lJceb2TORTTW"
      },
      "execution_count": null,
      "outputs": []
    },
    {
      "cell_type": "code",
      "source": [
        "mylist[3:] # リストの最後まで"
      ],
      "metadata": {
        "id": "SqAu-AgL7UlY"
      },
      "execution_count": null,
      "outputs": []
    },
    {
      "cell_type": "code",
      "source": [
        "mylist[3:-1] # リストの最後の一つ手前まで"
      ],
      "metadata": {
        "id": "y1pSDcoO7ccR"
      },
      "execution_count": null,
      "outputs": []
    },
    {
      "cell_type": "code",
      "source": [
        "mylist[-2:] # リストの最後の二つ手前から最後まで"
      ],
      "metadata": {
        "id": "glDk5vNM7lg-"
      },
      "execution_count": null,
      "outputs": []
    },
    {
      "cell_type": "code",
      "source": [
        "mylist[0:8:2]"
      ],
      "metadata": {
        "id": "gB7K3FOusnST"
      },
      "execution_count": null,
      "outputs": []
    },
    {
      "cell_type": "markdown",
      "source": [
        "# 変数一覧の表示\n",
        "左端の {x} をクリックすると、\n",
        "現在使われている変数の一覧が表示される。"
      ],
      "metadata": {
        "id": "vH3xzRaT4C4S"
      }
    },
    {
      "cell_type": "markdown",
      "source": [
        "# スクラッチセル\n",
        "挿入 → スクラッチコードセル  \n",
        "\n",
        "とすると右側にコードセルが表示される。\n",
        "ファイルに残したくないプログラムを実行する際に使う。\n",
        "「×」で閉じることができる。"
      ],
      "metadata": {
        "id": "MvjUpdsjwIMF"
      }
    },
    {
      "cell_type": "markdown",
      "source": [
        "# モジュール\n",
        "データ分析に必要な機能は、モジュールを追加することで利用が可能となる。\n"
      ],
      "metadata": {
        "id": "rXKyB4WX6TMo"
      }
    },
    {
      "cell_type": "markdown",
      "source": [
        "### 良く使われるモジュール\n",
        "\n",
        "モジュール名 | 機能 | 参考 URL\n",
        "-- | -- | --\n",
        "Numpy     | 行列やベクトルの計算 | https://numpy.org/\n",
        "Pandas    | データ処理 | https://pandas.pydata.org/\n",
        "matplotlib| データの可視化 | https://matplotlib.org/\n",
        "seaborn   | データの可視化 | https://seaborn.pydata.org/\n",
        "plotly    | データの可視化  | https://plotly.com/\n",
        "scipy     | 数値計算  | https://scipy.org/\n",
        "scikit-learn |  機械学習 |  https://scikit-learn.org/"
      ],
      "metadata": {
        "id": "7zdgZiy-eg5R"
      }
    },
    {
      "cell_type": "markdown",
      "source": [
        "### モジュールのインポート\n",
        "\n",
        "ライブラリーのインポート方法\n",
        "\n",
        "### モジュール全体をインポートする\n",
        "\n",
        "```\n",
        "import matplotlib\n",
        "import pandas\n",
        "```\n",
        "\n",
        "### モジュール全体を名前を変更してインポートする場合\n",
        "```\n",
        "import matplotlib as mpl\n",
        "import pandas as pd\n",
        "\n",
        "\n",
        "```\n",
        "### モジュールから一部の機能のみをインポート場合\n",
        "\n",
        "```\n",
        "from matplotlib import pyplot as plt\n",
        "```\n",
        "\n"
      ],
      "metadata": {
        "id": "6RUSSS9iR-xZ"
      }
    },
    {
      "cell_type": "markdown",
      "source": [
        "math モジュールを使い、平方根を計算する"
      ],
      "metadata": {
        "id": "-bHVQIuGMr_7"
      }
    },
    {
      "cell_type": "code",
      "source": [
        "import math\n",
        "x = 2.0\n",
        "sqrtx = math.sqrt(x)\n",
        "print( x )"
      ],
      "metadata": {
        "id": "YDobUXPxMkp8"
      },
      "execution_count": null,
      "outputs": []
    },
    {
      "cell_type": "code",
      "source": [
        "import math as m\n",
        "x = 2.0\n",
        "sqrtx = m.sqrt(x)\n",
        "print( x )"
      ],
      "metadata": {
        "id": "n7LDfU3QMQez"
      },
      "execution_count": null,
      "outputs": []
    },
    {
      "cell_type": "markdown",
      "source": [
        "# スクラッチコードセル\n",
        "簡単なコードを試すことができるセル。ノートブックには残したくないが試してみたいコードがある場合に利用する。使い方は、\n",
        "\n",
        "> 挿入 → スクラッチ\n"
      ],
      "metadata": {
        "id": "-e-Jmli_Y2Un"
      }
    },
    {
      "cell_type": "markdown",
      "source": [
        "# 処理の中断\n",
        "プログラムが終了しない場合は、実行中のセルの左側にあるボタンをクリックすると、中断できます。"
      ],
      "metadata": {
        "id": "K-hsGAeJBeDg"
      }
    },
    {
      "cell_type": "code",
      "source": [
        "while True:\n",
        "    text = input()\n",
        "    print(text)"
      ],
      "metadata": {
        "id": "mkO7Dt2GBTV4"
      },
      "execution_count": null,
      "outputs": []
    },
    {
      "cell_type": "markdown",
      "source": [
        "# セッションの管理\n",
        "\n",
        "同時に複数のノートブックを操作しようとするとエラーになることがある。この場合は、\n",
        "\n",
        "> ランタイム → セッションの管理\n",
        "\n",
        "で起動しているセッションの一覧を表示させ、不要なものを終了させる必要がある。\n",
        "\n",
        "\n",
        "\n",
        "\n",
        "\n"
      ],
      "metadata": {
        "id": "cX-Rx2PxqbcW"
      }
    },
    {
      "cell_type": "markdown",
      "source": [
        "# コードスニペット\n",
        "便利なPythonコードの例がいくつか用意されている。使い方は、\n",
        "\n",
        "> 挿入 → コードスニペッド"
      ],
      "metadata": {
        "id": "FYompWKaZFvL"
      }
    },
    {
      "cell_type": "code",
      "source": [
        "import numpy as np\n",
        "#from matplotlib import pyplot as plt\n",
        "import matplotlib\n",
        "\n",
        "ys = 200 + np.random.randn(100)\n",
        "x = [x for x in range(len(ys))]\n",
        "\n",
        "matplotlib.pyplot.plot(x, ys, '-')\n",
        "matplotlib.pyplot.fill_between(x, ys, 195, where=(ys > 195), facecolor='g', alpha=0.6)\n",
        "\n",
        "matplotlib.pyplot.title(\"Fills and Alpha Example\")\n",
        "matplotlib.pyplot.show()"
      ],
      "metadata": {
        "id": "4fG2uOZGYz-f"
      },
      "execution_count": null,
      "outputs": []
    },
    {
      "cell_type": "code",
      "source": [
        "import numpy as np\n",
        "from matplotlib import pyplot as plt\n",
        "\n",
        "ys = 200 + np.random.randn(100)\n",
        "x = [x for x in range(len(ys))]\n",
        "\n",
        "plt.plot(x, ys, '-')\n",
        "plt.fill_between(x, ys, 195, where=(ys > 195), facecolor='g', alpha=0.6)\n",
        "\n",
        "plt.title(\"Fills and Alpha Example\")\n",
        "plt.show()"
      ],
      "metadata": {
        "id": "PxoVM7wqTn2N"
      },
      "execution_count": null,
      "outputs": []
    },
    {
      "cell_type": "markdown",
      "source": [
        "---\n",
        "---\n"
      ],
      "metadata": {
        "id": "_VmobHeu7QGk"
      }
    },
    {
      "cell_type": "markdown",
      "source": [
        "# データのファイルからの読み込み\n",
        "パソコン上に作成したエクセルファイルを Google Drive にアップロードして、Pythonプログラムで読み込んでみる。\n",
        "\n",
        "## エクセルファイルの作成  \n",
        "PCでエクセルを開き、適当な数値を入力しファイルを保存する。\n",
        "\n",
        "> 例えば、以下の表をエクセルで作る\n",
        ">\n",
        "> 商品|金額\n",
        ">  -- | --\n",
        "> りんご | 300\n",
        "> みかん | 200\n",
        "> スイカ | 1000\n",
        "\n",
        "### ドライブのマウント\n",
        "1. Colabにて、左端のフォルダーのアイコンをクリックし、ファイルメニューを開く。\n",
        "\n",
        "1. マウントアイコンをクリックし Google Driveをマウントする。\n",
        "\n",
        "1. drive の中の「MyDrive」が Google Drive のマイドライブとなる。\n",
        "\n",
        "### ファイルのGoogle Drive へのアップロード\n",
        "1. Google Drive で適当なフォルダーを作成\n",
        "2. PCのファイルをドラッグ＆ドロップでアップロードする。  \n",
        "あるいは、Google Driveで右クリックでメニューを開き、ファイルのアップロードを選択してもアップロードが可能である。\n",
        "\n",
        "### Colabで操作\n",
        "1. Driveメニューで目的のファイルにマウスを合わせ、ファイル名の右にある縦3つの「・」部分をクリックして「パスをコピー」を選択する。\n",
        "\n",
        "1. 以下のPythonコードの 3行目を先ほどコピーしたパスに変更する。ctrl+v でペーストされる。"
      ],
      "metadata": {
        "id": "ALpz2K-GYwzo"
      }
    },
    {
      "cell_type": "code",
      "source": [
        "import pandas\n",
        "\n",
        "# 以下の行を変更する\n",
        "file_name = '/content/drive/MyDrive/データアップロード/商品金額.xlsx'\n",
        "data= pandas.read_excel(file_name)\n",
        "\n",
        "#データの行数と列数を表示\n",
        "print( data.shape )"
      ],
      "metadata": {
        "id": "nbQH_JnZeHAt"
      },
      "execution_count": null,
      "outputs": []
    },
    {
      "cell_type": "code",
      "source": [
        "# 先頭部分のデータを表示\n",
        "data.head()"
      ],
      "metadata": {
        "id": "nHhU9cUvzCZJ"
      },
      "execution_count": null,
      "outputs": []
    },
    {
      "cell_type": "markdown",
      "source": [
        "\n",
        "## CSVファイルの読み込み\n",
        "\n",
        "> csvファイルはUTF-8で保存されている必要がある。うまく読み込めない場合は、エクセルで「CSV UTF-8」として保存すると良い。"
      ],
      "metadata": {
        "id": "BZ8V-tkH5skT"
      }
    },
    {
      "cell_type": "code",
      "source": [
        "import pandas\n",
        "\n",
        "data= pandas.read_csv('/content/drive/MyDrive/データアップロード/商品金額.csv')\n",
        "print( data.size )"
      ],
      "metadata": {
        "id": "cXc0-Hm1yRe7"
      },
      "execution_count": null,
      "outputs": []
    },
    {
      "cell_type": "code",
      "source": [
        "# 先頭の数行を表示させる\n",
        "data.head()"
      ],
      "metadata": {
        "id": "M1TYe7eKwvSO"
      },
      "execution_count": null,
      "outputs": []
    },
    {
      "cell_type": "markdown",
      "source": [
        "# 参考サイト\n",
        "- Google Colaboratory のWebページ\n",
        " - https://colab.research.google.com/\n",
        "\n",
        "\n",
        "- 授業の資料保管場所\n",
        " - https://github.com/yajima-yasutoshi/DataMining2024/tree/main/20241008"
      ],
      "metadata": {
        "id": "SpNdfz6mzUZK"
      }
    }
  ]
}